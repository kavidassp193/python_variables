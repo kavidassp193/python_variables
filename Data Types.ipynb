{
 "cells": [
  {
   "cell_type": "code",
   "execution_count": 1,
   "id": "4e895c40-4b16-46f7-8776-8dbb1bc4aef3",
   "metadata": {},
   "outputs": [],
   "source": [
    "#Srting\n",
    "\n",
    "name=\"kavi\""
   ]
  },
  {
   "cell_type": "code",
   "execution_count": 2,
   "id": "4ff502be-1288-498d-a286-e7cdc041e2fa",
   "metadata": {},
   "outputs": [
    {
     "data": {
      "text/plain": [
       "'kavi'"
      ]
     },
     "execution_count": 2,
     "metadata": {},
     "output_type": "execute_result"
    }
   ],
   "source": [
    "name"
   ]
  },
  {
   "cell_type": "code",
   "execution_count": 3,
   "id": "618576a1-1e5c-4e5c-be4b-258ca8c3922e",
   "metadata": {},
   "outputs": [
    {
     "data": {
      "text/plain": [
       "str"
      ]
     },
     "execution_count": 3,
     "metadata": {},
     "output_type": "execute_result"
    }
   ],
   "source": [
    "type(name)"
   ]
  },
  {
   "cell_type": "code",
   "execution_count": 4,
   "id": "167e59e2-76b7-4337-9f41-c4956c953bd8",
   "metadata": {},
   "outputs": [
    {
     "name": "stdout",
     "output_type": "stream",
     "text": [
      "rajesh pavi ravi\n"
     ]
    }
   ],
   "source": [
    "n1='rajesh'\n",
    "n2=\"pavi\"\n",
    "n3='''ravi'''\n",
    "print(n1,n2,n3)"
   ]
  },
  {
   "cell_type": "code",
   "execution_count": 9,
   "id": "3221e0d4-8a23-40dc-b79c-692a699b3559",
   "metadata": {},
   "outputs": [],
   "source": [
    "first=\"kavi\"\n",
    "last=\"dass\""
   ]
  },
  {
   "cell_type": "code",
   "execution_count": 14,
   "id": "7e7fff5a-4e48-4801-aa13-b998008ff92d",
   "metadata": {},
   "outputs": [
    {
     "data": {
      "text/plain": [
       "'kavi dass'"
      ]
     },
     "execution_count": 14,
     "metadata": {},
     "output_type": "execute_result"
    }
   ],
   "source": [
    "name=f\"{first} {last}\"\n",
    "name"
   ]
  },
  {
   "cell_type": "code",
   "execution_count": 15,
   "id": "559107a6-e989-496f-92c2-52da5239ceda",
   "metadata": {},
   "outputs": [
    {
     "data": {
      "text/plain": [
       "'biriyani,chicken,mutton,rice,lavangam'"
      ]
     },
     "execution_count": 15,
     "metadata": {},
     "output_type": "execute_result"
    }
   ],
   "source": [
    "recipe=\"biriyani,chicken,mutton,rice,lavangam\"\n",
    "recipe"
   ]
  },
  {
   "cell_type": "code",
   "execution_count": 22,
   "id": "3cbd6fb0-f22b-4c6e-b85d-a66c119e0260",
   "metadata": {},
   "outputs": [
    {
     "data": {
      "text/plain": [
       "True"
      ]
     },
     "execution_count": 22,
     "metadata": {},
     "output_type": "execute_result"
    }
   ],
   "source": [
    "spice=\"biriyani\" #the true means biriyani used in recipe\n",
    "spice in recipe"
   ]
  },
  {
   "cell_type": "code",
   "execution_count": 23,
   "id": "7fd43e39-796c-43bc-99ef-afebf43db116",
   "metadata": {},
   "outputs": [
    {
     "data": {
      "text/plain": [
       "False"
      ]
     },
     "execution_count": 23,
     "metadata": {},
     "output_type": "execute_result"
    }
   ],
   "source": [
    "spicy=\"milk\" # see there is no milk in recipe so it shows False\n",
    "spicy in recipe"
   ]
  },
  {
   "cell_type": "code",
   "execution_count": 29,
   "id": "8d179b3f-1e96-4d98-9476-974221071583",
   "metadata": {},
   "outputs": [
    {
     "data": {
      "text/plain": [
       "'BIRIYANI,CHICKEN,MUTTON,RICE,LAVANGAM'"
      ]
     },
     "execution_count": 29,
     "metadata": {},
     "output_type": "execute_result"
    }
   ],
   "source": [
    "recipe.upper()"
   ]
  },
  {
   "cell_type": "code",
   "execution_count": 30,
   "id": "74866d1a-bfc5-41b8-a818-4819ca482bc1",
   "metadata": {},
   "outputs": [
    {
     "data": {
      "text/plain": [
       "'biriyani,chicken,mutton,rice,lavangam'"
      ]
     },
     "execution_count": 30,
     "metadata": {},
     "output_type": "execute_result"
    }
   ],
   "source": [
    "recipe.lower()"
   ]
  },
  {
   "cell_type": "code",
   "execution_count": 31,
   "id": "aa2455c4-a722-48d1-a695-170f2fe170f0",
   "metadata": {},
   "outputs": [],
   "source": [
    "name=\"kavi|ravi|rajesh|naveen\" #using split sunction to split all the names "
   ]
  },
  {
   "cell_type": "code",
   "execution_count": 36,
   "id": "2e72c03c-3197-469e-bf52-e2634ac3da91",
   "metadata": {},
   "outputs": [
    {
     "data": {
      "text/plain": [
       "['kavi', 'ravi', 'rajesh', 'naveen']"
      ]
     },
     "execution_count": 36,
     "metadata": {},
     "output_type": "execute_result"
    }
   ],
   "source": [
    "name.split(\"|\")\n"
   ]
  },
  {
   "cell_type": "code",
   "execution_count": null,
   "id": "e8f6206a-4f78-4255-8bfe-ce1fdc8abfb4",
   "metadata": {},
   "outputs": [],
   "source": [
    "\n"
   ]
  },
  {
   "cell_type": "code",
   "execution_count": 37,
   "id": "ff4f84e2-8bd3-4a42-a3c9-8f36fd261abf",
   "metadata": {},
   "outputs": [],
   "source": [
    "\n",
    "#Numbers\n",
    "\n",
    "k=7 #Int\n",
    "k1=7.5 #float\n",
    "k2=7+2j #Complex Numbers"
   ]
  },
  {
   "cell_type": "code",
   "execution_count": 38,
   "id": "4c5e5253-e5d4-4310-aece-08977e346f55",
   "metadata": {},
   "outputs": [
    {
     "name": "stdout",
     "output_type": "stream",
     "text": [
      "7\n"
     ]
    }
   ],
   "source": [
    "print(k)"
   ]
  },
  {
   "cell_type": "code",
   "execution_count": 39,
   "id": "af1b18f9-94be-4d45-b40f-7e255d8affe0",
   "metadata": {},
   "outputs": [
    {
     "data": {
      "text/plain": [
       "int"
      ]
     },
     "execution_count": 39,
     "metadata": {},
     "output_type": "execute_result"
    }
   ],
   "source": [
    "type(k)"
   ]
  },
  {
   "cell_type": "code",
   "execution_count": 40,
   "id": "a8241bf9-5cc1-43f6-9236-2981d263c664",
   "metadata": {},
   "outputs": [
    {
     "name": "stdout",
     "output_type": "stream",
     "text": [
      "7.5\n"
     ]
    }
   ],
   "source": [
    "print(k1)"
   ]
  },
  {
   "cell_type": "code",
   "execution_count": 41,
   "id": "49338970-71b5-4f2b-a34c-6669d211975a",
   "metadata": {},
   "outputs": [
    {
     "data": {
      "text/plain": [
       "float"
      ]
     },
     "execution_count": 41,
     "metadata": {},
     "output_type": "execute_result"
    }
   ],
   "source": [
    "type(k1)"
   ]
  },
  {
   "cell_type": "code",
   "execution_count": 42,
   "id": "6d97ea45-c183-44b5-b8b3-fcf2d9d91c5c",
   "metadata": {},
   "outputs": [
    {
     "name": "stdout",
     "output_type": "stream",
     "text": [
      "(7+2j)\n"
     ]
    }
   ],
   "source": [
    "print(k2)"
   ]
  },
  {
   "cell_type": "code",
   "execution_count": 43,
   "id": "bd1420f2-07aa-4f19-8b9e-b753857f3875",
   "metadata": {},
   "outputs": [
    {
     "data": {
      "text/plain": [
       "complex"
      ]
     },
     "execution_count": 43,
     "metadata": {},
     "output_type": "execute_result"
    }
   ],
   "source": [
    "type(k2)"
   ]
  },
  {
   "cell_type": "code",
   "execution_count": 47,
   "id": "85552813-e26a-4f78-ad67-eff557bf10b5",
   "metadata": {},
   "outputs": [
    {
     "name": "stdout",
     "output_type": "stream",
     "text": [
      "14.0\n"
     ]
    }
   ],
   "source": [
    "height=7\n",
    "base=4\n",
    "area=(height*base)/2\n",
    "print(area)"
   ]
  },
  {
   "cell_type": "code",
   "execution_count": 48,
   "id": "24ff42a0-9e29-40a8-8dc3-77f429e20731",
   "metadata": {},
   "outputs": [],
   "source": [
    "#Numeric Operators\n",
    "#Addition\n",
    "#subtraction\n",
    "#divison\n",
    "#Multiplication\n",
    "#Modulo\n",
    " "
   ]
  },
  {
   "cell_type": "code",
   "execution_count": 49,
   "id": "28048107-4721-4988-bc75-d7ab4e09fce7",
   "metadata": {},
   "outputs": [
    {
     "data": {
      "text/plain": [
       "15"
      ]
     },
     "execution_count": 49,
     "metadata": {},
     "output_type": "execute_result"
    }
   ],
   "source": [
    "k=7\n",
    "m=8\n",
    "y=k+m\n",
    "y"
   ]
  },
  {
   "cell_type": "code",
   "execution_count": 1,
   "id": "fb26472e-f580-40f7-b175-bdedec689b10",
   "metadata": {},
   "outputs": [
    {
     "name": "stdout",
     "output_type": "stream",
     "text": [
      "28 160 20\n"
     ]
    }
   ],
   "source": [
    "a=20\n",
    "b=8\n",
    "c=a+b\n",
    "d=a*b\n",
    "e=a%d\n",
    "print(c,d,e)"
   ]
  },
  {
   "cell_type": "code",
   "execution_count": 5,
   "id": "b7c30638-1733-41bc-8935-fe59d1b5a7f1",
   "metadata": {},
   "outputs": [
    {
     "data": {
      "text/plain": [
       "4.0"
      ]
     },
     "execution_count": 5,
     "metadata": {},
     "output_type": "execute_result"
    }
   ],
   "source": [
    "import math #Import Math Function For Doing Some Operations Like Floor division and sqrt and ceil\n",
    "a=16\n",
    "math.sqrt(a)\n"
   ]
  },
  {
   "cell_type": "code",
   "execution_count": 6,
   "id": "2e94f1e5-e388-4e3f-891d-64b3d9202d89",
   "metadata": {},
   "outputs": [
    {
     "data": {
      "text/plain": [
       "7"
      ]
     },
     "execution_count": 6,
     "metadata": {},
     "output_type": "execute_result"
    }
   ],
   "source": [
    "math.floor(7.5)"
   ]
  },
  {
   "cell_type": "code",
   "execution_count": 7,
   "id": "88bc8ac3-d455-4390-a890-7285cdb479e1",
   "metadata": {},
   "outputs": [
    {
     "data": {
      "text/plain": [
       "8"
      ]
     },
     "execution_count": 7,
     "metadata": {},
     "output_type": "execute_result"
    }
   ],
   "source": [
    "math.ceil(7.5)"
   ]
  },
  {
   "cell_type": "code",
   "execution_count": 13,
   "id": "c2fa3bcb-fcb8-4379-9f60-a4387792472c",
   "metadata": {},
   "outputs": [
    {
     "name": "stdout",
     "output_type": "stream",
     "text": [
      "kavi 35\n"
     ]
    }
   ],
   "source": [
    "a=\"kavi\"\n",
    "age=35\n",
    "print(a+\" \"+str(age))"
   ]
  },
  {
   "cell_type": "code",
   "execution_count": 14,
   "id": "4280f0bf-a973-4af4-98a0-d0d4b6918bb2",
   "metadata": {},
   "outputs": [
    {
     "data": {
      "text/plain": [
       "int"
      ]
     },
     "execution_count": 14,
     "metadata": {},
     "output_type": "execute_result"
    }
   ],
   "source": [
    "#Casting\n",
    "#Casting is changing data type \n",
    "#For a Example\n",
    "\n",
    "k=7\n",
    "type(k)\n"
   ]
  },
  {
   "cell_type": "code",
   "execution_count": 15,
   "id": "e7df844a-31e0-4991-8e07-aa584b93556a",
   "metadata": {},
   "outputs": [
    {
     "name": "stdout",
     "output_type": "stream",
     "text": [
      "7.0\n"
     ]
    }
   ],
   "source": [
    "k1=float(k)  #Convert Data Type Integer Into Float That is Called Casting\n",
    "print(k1)"
   ]
  },
  {
   "cell_type": "code",
   "execution_count": 16,
   "id": "cf7b3a30-ead4-44d8-8d5a-2b9eb2c30db4",
   "metadata": {},
   "outputs": [
    {
     "data": {
      "text/plain": [
       "float"
      ]
     },
     "execution_count": 16,
     "metadata": {},
     "output_type": "execute_result"
    }
   ],
   "source": [
    "type(k1)"
   ]
  },
  {
   "cell_type": "code",
   "execution_count": 17,
   "id": "90f2c76b-8f92-404d-b9b0-59cf9f3aaa4e",
   "metadata": {},
   "outputs": [
    {
     "name": "stdout",
     "output_type": "stream",
     "text": [
      "(7+0j)\n"
     ]
    }
   ],
   "source": [
    "k2=complex(k1) #Converting data type float into complex numbers \n",
    "print(k2)"
   ]
  },
  {
   "cell_type": "code",
   "execution_count": 19,
   "id": "05014f4b-6142-4abd-89a3-62c8de666bf1",
   "metadata": {},
   "outputs": [
    {
     "name": "stdout",
     "output_type": "stream",
     "text": [
      "5.0\n",
      "6.0\n"
     ]
    }
   ],
   "source": [
    "A=5+8j\n",
    "B=8+6j\n",
    "print(A.real)\n",
    "print(B.imag)"
   ]
  },
  {
   "cell_type": "code",
   "execution_count": 20,
   "id": "c8e408e8-0b39-4208-a773-dcd59f938f62",
   "metadata": {},
   "outputs": [
    {
     "data": {
      "text/plain": [
       "complex"
      ]
     },
     "execution_count": 20,
     "metadata": {},
     "output_type": "execute_result"
    }
   ],
   "source": [
    "type(A)"
   ]
  },
  {
   "cell_type": "code",
   "execution_count": 24,
   "id": "5c1e4826-9123-47f4-80ec-cca76cb34a8b",
   "metadata": {},
   "outputs": [
    {
     "name": "stdout",
     "output_type": "stream",
     "text": [
      "5\n"
     ]
    }
   ],
   "source": [
    "A1=int(A.real)\n",
    "print(A1)"
   ]
  },
  {
   "cell_type": "code",
   "execution_count": 33,
   "id": "4c25b026-2c68-49a6-851d-cfa422aa122f",
   "metadata": {},
   "outputs": [
    {
     "name": "stdout",
     "output_type": "stream",
     "text": [
      "6\n"
     ]
    }
   ],
   "source": [
    "b1=int(B.imag)\n",
    "print(b1)"
   ]
  },
  {
   "cell_type": "code",
   "execution_count": 34,
   "id": "0f52cd25-4223-4c14-ac91-a9203731d578",
   "metadata": {},
   "outputs": [
    {
     "name": "stdout",
     "output_type": "stream",
     "text": [
      "kavi\n"
     ]
    }
   ],
   "source": [
    "names=\"kavi\"\n",
    "print(names)"
   ]
  },
  {
   "cell_type": "code",
   "execution_count": 35,
   "id": "c127e28b-5953-4fed-a1da-e255bec2fb22",
   "metadata": {},
   "outputs": [
    {
     "data": {
      "text/plain": [
       "str"
      ]
     },
     "execution_count": 35,
     "metadata": {},
     "output_type": "execute_result"
    }
   ],
   "source": [
    "type(names)"
   ]
  },
  {
   "cell_type": "code",
   "execution_count": 36,
   "id": "0ac5bdbc-000f-4e62-b623-5830fca061a8",
   "metadata": {},
   "outputs": [
    {
     "ename": "ValueError",
     "evalue": "invalid literal for int() with base 10: 'kavi'",
     "output_type": "error",
     "traceback": [
      "\u001b[1;31m---------------------------------------------------------------------------\u001b[0m",
      "\u001b[1;31mValueError\u001b[0m                                Traceback (most recent call last)",
      "Cell \u001b[1;32mIn[36], line 1\u001b[0m\n\u001b[1;32m----> 1\u001b[0m nameeee\u001b[38;5;241m=\u001b[39m\u001b[38;5;28mint\u001b[39m(names)\n\u001b[0;32m      2\u001b[0m \u001b[38;5;28mprint\u001b[39m(nameeee)\n",
      "\u001b[1;31mValueError\u001b[0m: invalid literal for int() with base 10: 'kavi'"
     ]
    }
   ],
   "source": [
    "nameeee=int(names)  #We can only convert int to float & Complex Python can not covert this into string data type because string is charactes not numeric values\n",
    "print(nameeee)"
   ]
  },
  {
   "cell_type": "code",
   "execution_count": null,
   "id": "4eaf1cd5-4261-4eef-a8c1-316cbd4678d6",
   "metadata": {},
   "outputs": [],
   "source": []
  }
 ],
 "metadata": {
  "kernelspec": {
   "display_name": "Python 3 (ipykernel)",
   "language": "python",
   "name": "python3"
  },
  "language_info": {
   "codemirror_mode": {
    "name": "ipython",
    "version": 3
   },
   "file_extension": ".py",
   "mimetype": "text/x-python",
   "name": "python",
   "nbconvert_exporter": "python",
   "pygments_lexer": "ipython3",
   "version": "3.13.5"
  }
 },
 "nbformat": 4,
 "nbformat_minor": 5
}
