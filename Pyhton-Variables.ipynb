{
 "cells": [
  {
   "cell_type": "code",
   "execution_count": 1,
   "id": "c99a83bb-fa8c-40d1-a434-7fde5b13005a",
   "metadata": {},
   "outputs": [
    {
     "name": "stdout",
     "output_type": "stream",
     "text": [
      "Hello World\n"
     ]
    }
   ],
   "source": [
    "print(\"Hello World\")\n"
   ]
  },
  {
   "cell_type": "code",
   "execution_count": 2,
   "id": "2edefae7-e2e1-4d58-ac22-3a81005552ce",
   "metadata": {},
   "outputs": [],
   "source": [
    "#Legal Variables\n",
    "\n",
    "Variable=8\n",
    "_variable=10\n",
    "vari_able=11\n",
    "variable1=12\n",
    "v1_arible=13"
   ]
  },
  {
   "cell_type": "code",
   "execution_count": 3,
   "id": "f42f7cd8-d007-4ead-b389-6eef441ef1e8",
   "metadata": {},
   "outputs": [
    {
     "name": "stdout",
     "output_type": "stream",
     "text": [
      "8\n"
     ]
    }
   ],
   "source": [
    "print(Variable)"
   ]
  },
  {
   "cell_type": "code",
   "execution_count": 4,
   "id": "84a6b947-bf06-438c-96fd-0567fbe08e82",
   "metadata": {},
   "outputs": [
    {
     "name": "stdout",
     "output_type": "stream",
     "text": [
      "10\n"
     ]
    }
   ],
   "source": [
    "print(_variable)"
   ]
  },
  {
   "cell_type": "code",
   "execution_count": 5,
   "id": "640887f7-5039-4faa-b29b-de40b99c1ba3",
   "metadata": {},
   "outputs": [
    {
     "name": "stdout",
     "output_type": "stream",
     "text": [
      "11\n"
     ]
    }
   ],
   "source": [
    "print(vari_able)"
   ]
  },
  {
   "cell_type": "code",
   "execution_count": 7,
   "id": "05ab7999-9b73-4668-bd46-83672c5fc2a8",
   "metadata": {},
   "outputs": [
    {
     "name": "stdout",
     "output_type": "stream",
     "text": [
      "13\n"
     ]
    }
   ],
   "source": [
    "print(v1_arible)"
   ]
  },
  {
   "cell_type": "raw",
   "id": "9a381e1e-4b2a-4ca0-9f2e-6badaeca80b3",
   "metadata": {},
   "source": []
  },
  {
   "cell_type": "code",
   "execution_count": 4,
   "id": "c6289669-101a-46fb-85c2-cbd1af7daf55",
   "metadata": {},
   "outputs": [
    {
     "ename": "SyntaxError",
     "evalue": "invalid decimal literal (1993212797.py, line 4)",
     "output_type": "error",
     "traceback": [
      "\u001b[1;36m  Cell \u001b[1;32mIn[4], line 4\u001b[1;36m\u001b[0m\n\u001b[1;33m    1variable=9\u001b[0m\n\u001b[1;37m    ^\u001b[0m\n\u001b[1;31mSyntaxError\u001b[0m\u001b[1;31m:\u001b[0m invalid decimal literal\n"
     ]
    }
   ],
   "source": [
    "#illegel Variables\n",
    "\n",
    "vari able=8  #Syntaex Error Python Is Case Senstive Programming Language, Python Dosen't Read & Accepect Spaces In Bwetween Characters \n",
    "1variable=9  #in Python Variables Don't Accepect Numbers & Special Characters In Fisrt Letter In Varialbes If You Entered Numbers in 1st Throw Syntax Error\n",
    "vari-able=10 #In Python - the error comes because we used hyphen(-) which means subtraction is not part of a variable name\n",
    "$variable=11 #in python variable names can not contain special characters like ( $,@,-) etc.. only digits and letters allowed\n",
    "max variable=12 # In Python variable names can not contain Keywords"
   ]
  },
  {
   "cell_type": "code",
   "execution_count": 8,
   "id": "fe491c8a-fd60-4ac3-983e-88dda4de8c65",
   "metadata": {},
   "outputs": [
    {
     "name": "stdout",
     "output_type": "stream",
     "text": [
      "13\n"
     ]
    }
   ],
   "source": [
    "print(v1_arible)"
   ]
  },
  {
   "cell_type": "code",
   "execution_count": 9,
   "id": "9f02e134-ce34-404e-aea7-1f3e323fd0de",
   "metadata": {},
   "outputs": [
    {
     "ename": "NameError",
     "evalue": "name 'vari' is not defined",
     "output_type": "error",
     "traceback": [
      "\u001b[1;31m---------------------------------------------------------------------------\u001b[0m",
      "\u001b[1;31mNameError\u001b[0m                                 Traceback (most recent call last)",
      "Cell \u001b[1;32mIn[9], line 1\u001b[0m\n\u001b[1;32m----> 1\u001b[0m \u001b[38;5;28mprint\u001b[39m(vari\u001b[38;5;241m-\u001b[39mable)\n",
      "\u001b[1;31mNameError\u001b[0m: name 'vari' is not defined"
     ]
    }
   ],
   "source": [
    "print(vari-able)"
   ]
  },
  {
   "cell_type": "code",
   "execution_count": null,
   "id": "043629f7-2179-41d6-b0c7-b9750142d16f",
   "metadata": {},
   "outputs": [],
   "source": []
  }
 ],
 "metadata": {
  "kernelspec": {
   "display_name": "Python 3 (ipykernel)",
   "language": "python",
   "name": "python3"
  },
  "language_info": {
   "codemirror_mode": {
    "name": "ipython",
    "version": 3
   },
   "file_extension": ".py",
   "mimetype": "text/x-python",
   "name": "python",
   "nbconvert_exporter": "python",
   "pygments_lexer": "ipython3",
   "version": "3.13.5"
  }
 },
 "nbformat": 4,
 "nbformat_minor": 5
}
