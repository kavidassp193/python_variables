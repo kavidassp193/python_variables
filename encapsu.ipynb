{
 "cells": [
  {
   "cell_type": "code",
   "execution_count": 46,
   "id": "f9ca7ad9-93a6-49ee-a2eb-ba2222d1f0ed",
   "metadata": {},
   "outputs": [
    {
     "name": "stdout",
     "output_type": "stream",
     "text": [
      " naa ivlo vaanguran daw 1\n"
     ]
    }
   ],
   "source": [
    "class parent:\n",
    "    def __init__(self,name,age,salary):\n",
    "        self.name=name\n",
    "        self._age=age\n",
    "        self.__salary=salary\n",
    "    def show(self):\n",
    "        print(f\" hi this is {self.name}\")\n",
    "    def _show1(self):\n",
    "        print(f\" im {self._age} years old\")\n",
    "    def __show2(self):\n",
    "        print(f\" im earning {self.__salary} per month\")\n",
    "    def show3(self):\n",
    "        self.__show2()\n",
    "class child(parent):\n",
    "    def nope(self):\n",
    "        print(f\" hey dude {self.name}\")\n",
    "    def _noobie(self):\n",
    "        print(f\" hey im {self._age} bold\")\n",
    "    def __salad(self):\n",
    "        print(f\" dude {self._parent__salary} per day\")\n",
    "    def bala(self):\n",
    "        self.__salad()\n",
    "class siblings(child):\n",
    "    def dope(self):\n",
    "        print(f\" dei noode {self.name}\")\n",
    "    def _lap(self):\n",
    "        print(f\" sala {self._age} old\")\n",
    "    def __pyy(self):\n",
    "        print(f\" naa ivlo vaanguran daw {self._parent__salary}\")\n",
    "    def die(self):\n",
    "        self.__pyy()\n",
    "obj=siblings(\"dravid\",88,1)\n",
    "obj.die()\n",
    "\n",
    "    "
   ]
  },
  {
   "cell_type": "code",
   "execution_count": null,
   "id": "8a292a05-49b6-4f5f-a55a-c86472af83f0",
   "metadata": {},
   "outputs": [],
   "source": []
  }
 ],
 "metadata": {
  "kernelspec": {
   "display_name": "Python 3 (ipykernel)",
   "language": "python",
   "name": "python3"
  },
  "language_info": {
   "codemirror_mode": {
    "name": "ipython",
    "version": 3
   },
   "file_extension": ".py",
   "mimetype": "text/x-python",
   "name": "python",
   "nbconvert_exporter": "python",
   "pygments_lexer": "ipython3",
   "version": "3.13.5"
  }
 },
 "nbformat": 4,
 "nbformat_minor": 5
}
