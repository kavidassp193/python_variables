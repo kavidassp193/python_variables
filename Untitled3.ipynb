{
 "cells": [
  {
   "cell_type": "code",
   "execution_count": 3,
   "id": "4c643b89-8326-4031-8cdc-09e7820b317d",
   "metadata": {},
   "outputs": [
    {
     "name": "stdout",
     "output_type": "stream",
     "text": [
      "longest word is : kavidass\n"
     ]
    }
   ],
   "source": [
    "def longestword(k):\n",
    "    words=k.split()\n",
    "    longest=max(words,key=len)\n",
    "    return f\"longest word is : {longest}\"\n",
    "print(longestword(\"kavidass is noob\"))"
   ]
  },
  {
   "cell_type": "code",
   "execution_count": 5,
   "id": "704f50f9-97e9-4273-8ad0-4706a2f35431",
   "metadata": {},
   "outputs": [
    {
     "name": "stdout",
     "output_type": "stream",
     "text": [
      "[121]\n"
     ]
    }
   ],
   "source": [
    "def palin(lst):\n",
    "    return[num for num in lst if str(num)==str(num)[::-1]]\n",
    "print(palin([123,546,121]))"
   ]
  },
  {
   "cell_type": "code",
   "execution_count": 3,
   "id": "6edc36d3-56b7-4cbe-8244-562a14470c35",
   "metadata": {},
   "outputs": [
    {
     "name": "stdout",
     "output_type": "stream",
     "text": [
      "[1, 2, 3, 4, 6, 7]\n"
     ]
    }
   ],
   "source": [
    "l1=[1,2,3,4]\n",
    "l2=[1,2,6,7]\n",
    "l3=list(set(l1)|set(l2))\n",
    "print(l3)"
   ]
  },
  {
   "cell_type": "code",
   "execution_count": 4,
   "id": "743d0870-d8f1-4ec9-81fd-c29d73c5db8d",
   "metadata": {},
   "outputs": [
    {
     "name": "stdout",
     "output_type": "stream",
     "text": [
      "[[1, 2], [3, 4], [5]]\n"
     ]
    }
   ],
   "source": [
    "def flatten_list(nested):\n",
    "    return [item for sublist in nested for iten in sublist]\n",
    "print([[1,2],[3,4],[5]])"
   ]
  },
  {
   "cell_type": "code",
   "execution_count": 5,
   "id": "48077ead-5fa2-417f-a7c8-09c3a8a439e1",
   "metadata": {},
   "outputs": [
    {
     "name": "stdout",
     "output_type": "stream",
     "text": [
      "vaild pan\n"
     ]
    }
   ],
   "source": [
    "import re\n",
    "\n",
    "def valid(pan):\n",
    "    pattern=r\"^[A-Z]{5}[0-9]{4}[A-Z]$\"\n",
    "    if re.match(pattern,pan):\n",
    "        return \"vaild pan\"\n",
    "    else:\n",
    "        return \"not\"\n",
    "print(valid(\"ABCSR1234W\"))"
   ]
  },
  {
   "cell_type": "code",
   "execution_count": 6,
   "id": "75a2bf08-b3e5-402c-b6d4-433bfaa314da",
   "metadata": {},
   "outputs": [
    {
     "name": "stdout",
     "output_type": "stream",
     "text": [
      "1010\n"
     ]
    }
   ],
   "source": [
    "def binary(n):\n",
    "    return bin(n)[2::]\n",
    "print(binary(10))"
   ]
  },
  {
   "cell_type": "code",
   "execution_count": 10,
   "id": "4baac3e3-7f41-443e-a668-633962a02615",
   "metadata": {},
   "outputs": [
    {
     "name": "stdin",
     "output_type": "stream",
     "text": [
      "enter the name kavi\n"
     ]
    },
    {
     "name": "stdout",
     "output_type": "stream",
     "text": [
      " conduct number is: 98\n"
     ]
    }
   ],
   "source": [
    "names={\"kavi\":98,\"ravi\":55}\n",
    "search=input(\"enter the name\")\n",
    "if search in names:\n",
    "    print(f\" conduct number is:\",names[search])\n",
    "else:\n",
    "    print(\"not found\")"
   ]
  },
  {
   "cell_type": "code",
   "execution_count": null,
   "id": "09a2cd48-723c-4bb4-a137-df318d889fa2",
   "metadata": {},
   "outputs": [],
   "source": []
  }
 ],
 "metadata": {
  "kernelspec": {
   "display_name": "Python 3 (ipykernel)",
   "language": "python",
   "name": "python3"
  },
  "language_info": {
   "codemirror_mode": {
    "name": "ipython",
    "version": 3
   },
   "file_extension": ".py",
   "mimetype": "text/x-python",
   "name": "python",
   "nbconvert_exporter": "python",
   "pygments_lexer": "ipython3",
   "version": "3.13.5"
  }
 },
 "nbformat": 4,
 "nbformat_minor": 5
}
